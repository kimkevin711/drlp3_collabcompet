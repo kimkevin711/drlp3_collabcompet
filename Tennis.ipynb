{
 "cells": [
  {
   "cell_type": "markdown",
   "metadata": {},
   "source": [
    "# Collaboration and Competition\n",
    "\n",
    "---\n",
    "\n",
    "In this notebook, you will learn how to use the Unity ML-Agents environment for the third project of the [Deep Reinforcement Learning Nanodegree](https://www.udacity.com/course/deep-reinforcement-learning-nanodegree--nd893) program.\n",
    "\n",
    "### 1. Start the Environment\n",
    "\n",
    "We begin by importing the necessary packages.  If the code cell below returns an error, please revisit the project instructions to double-check that you have installed [Unity ML-Agents](https://github.com/Unity-Technologies/ml-agents/blob/master/docs/Installation.md) and [NumPy](http://www.numpy.org/)."
   ]
  },
  {
   "cell_type": "code",
   "execution_count": 1,
   "metadata": {},
   "outputs": [],
   "source": [
    "from unityagents import UnityEnvironment\n",
    "import numpy as np\n",
    "import torch\n",
    "from collections import deque\n",
    "import random\n",
    "import matplotlib.pyplot as plt\n",
    "\n",
    "%matplotlib inline\n",
    "\n",
    "from ddpg_agent import Agent"
   ]
  },
  {
   "cell_type": "code",
   "execution_count": 3,
   "metadata": {},
   "outputs": [
    {
     "name": "stdout",
     "output_type": "stream",
     "text": [
      "True\n"
     ]
    }
   ],
   "source": [
    "# check if GPU is available\n",
    "device = torch.device(\"cuda:0\" if torch.cuda.is_available() else \"cpu\")\n",
    "print(torch.cuda.is_available())"
   ]
  },
  {
   "cell_type": "markdown",
   "metadata": {},
   "source": [
    "Next, we will start the environment!  **_Before running the code cell below_**, change the `file_name` parameter to match the location of the Unity environment that you downloaded.\n",
    "\n",
    "- **Mac**: `\"path/to/Tennis.app\"`\n",
    "- **Windows** (x86): `\"path/to/Tennis_Windows_x86/Tennis.exe\"`\n",
    "- **Windows** (x86_64): `\"path/to/Tennis_Windows_x86_64/Tennis.exe\"`\n",
    "- **Linux** (x86): `\"path/to/Tennis_Linux/Tennis.x86\"`\n",
    "- **Linux** (x86_64): `\"path/to/Tennis_Linux/Tennis.x86_64\"`\n",
    "- **Linux** (x86, headless): `\"path/to/Tennis_Linux_NoVis/Tennis.x86\"`\n",
    "- **Linux** (x86_64, headless): `\"path/to/Tennis_Linux_NoVis/Tennis.x86_64\"`\n",
    "\n",
    "For instance, if you are using a Mac, then you downloaded `Tennis.app`.  If this file is in the same folder as the notebook, then the line below should appear as follows:\n",
    "```\n",
    "env = UnityEnvironment(file_name=\"Tennis.app\")\n",
    "```"
   ]
  },
  {
   "cell_type": "code",
   "execution_count": 4,
   "metadata": {},
   "outputs": [
    {
     "name": "stderr",
     "output_type": "stream",
     "text": [
      "INFO:unityagents:\n",
      "'Academy' started successfully!\n",
      "Unity Academy name: Academy\n",
      "        Number of Brains: 1\n",
      "        Number of External Brains : 1\n",
      "        Lesson number : 0\n",
      "        Reset Parameters :\n",
      "\t\t\n",
      "Unity brain name: TennisBrain\n",
      "        Number of Visual Observations (per agent): 0\n",
      "        Vector Observation space type: continuous\n",
      "        Vector Observation space size (per agent): 8\n",
      "        Number of stacked Vector Observation: 3\n",
      "        Vector Action space type: continuous\n",
      "        Vector Action space size (per agent): 2\n",
      "        Vector Action descriptions: , \n"
     ]
    }
   ],
   "source": [
    "# on Windows (GPU enabled)\n",
    "env = UnityEnvironment(file_name=\"Tennis_Windows_x86_64/Tennis.exe\")"
   ]
  },
  {
   "cell_type": "markdown",
   "metadata": {},
   "source": [
    "Environments contain **_brains_** which are responsible for deciding the actions of their associated agents. Here we check for the first brain available, and set it as the default brain we will be controlling from Python."
   ]
  },
  {
   "cell_type": "code",
   "execution_count": 5,
   "metadata": {},
   "outputs": [
    {
     "name": "stdout",
     "output_type": "stream",
     "text": [
      "Using Brain: TennisBrain\n"
     ]
    }
   ],
   "source": [
    "# get the default brain\n",
    "brain_name = env.brain_names[0]\n",
    "brain = env.brains[brain_name]\n",
    "print('Using Brain:', brain_name)"
   ]
  },
  {
   "cell_type": "markdown",
   "metadata": {},
   "source": [
    "### 2. Examine the State and Action Spaces\n",
    "\n",
    "In this environment, two agents control rackets to bounce a ball over a net. If an agent hits the ball over the net, it receives a reward of +0.1.  If an agent lets a ball hit the ground or hits the ball out of bounds, it receives a reward of -0.01.  Thus, the goal of each agent is to keep the ball in play.\n",
    "\n",
    "The observation space consists of 8 variables corresponding to the position and velocity of the ball and racket. Two continuous actions are available, corresponding to movement toward (or away from) the net, and jumping. \n",
    "\n",
    "Run the code cell below to print some information about the environment."
   ]
  },
  {
   "cell_type": "code",
   "execution_count": 6,
   "metadata": {},
   "outputs": [
    {
     "name": "stdout",
     "output_type": "stream",
     "text": [
      "Number of agents: 2\n",
      "Size of each action: 2\n",
      "There are 2 agents. Each observes a state with length: 24\n",
      "The state for the first agent looks like: [ 0.          0.          0.          0.          0.          0.\n",
      "  0.          0.          0.          0.          0.          0.\n",
      "  0.          0.          0.          0.         -6.65278625 -1.5\n",
      " -0.          0.          6.83172083  6.         -0.          0.        ]\n"
     ]
    }
   ],
   "source": [
    "# reset the environment\n",
    "env_info = env.reset(train_mode=True)[brain_name]\n",
    "\n",
    "# number of agents \n",
    "num_agents = len(env_info.agents)\n",
    "print('Number of agents:', num_agents)\n",
    "\n",
    "# size of each action\n",
    "action_size = brain.vector_action_space_size\n",
    "print('Size of each action:', action_size)\n",
    "\n",
    "# examine the state space \n",
    "states = env_info.vector_observations\n",
    "state_size = states.shape[1]\n",
    "print('There are {} agents. Each observes a state with length: {}'.format(states.shape[0], state_size))\n",
    "print('The state for the first agent looks like:', states[0])"
   ]
  },
  {
   "cell_type": "markdown",
   "metadata": {},
   "source": [
    "### 3. Take Random Actions in the Environment\n",
    "\n",
    "In the next code cell, you will learn how to use the Python API to control the agents and receive feedback from the environment.\n",
    "\n",
    "Once this cell is executed, you will watch the agents' performance, if they select actions at random with each time step.  A window should pop up that allows you to observe the agents.\n",
    "\n",
    "Of course, as part of the project, you'll have to change the code so that the agents are able to use their experiences to gradually choose better actions when interacting with the environment!"
   ]
  },
  {
   "cell_type": "code",
   "execution_count": 7,
   "metadata": {},
   "outputs": [],
   "source": [
    "# for i_ep in range(1, 6):                                      # play game for 5 episodes\n",
    "#     env_info = env.reset(train_mode=False)[brain_name]     # reset the environment    \n",
    "#     states = env_info.vector_observations                  # get the current state (for each agent)\n",
    "#     scores = np.zeros(num_agents)                          # initialize the score (for each agent)\n",
    "#     while True:\n",
    "#         actions = np.random.randn(num_agents, action_size) # select an action (for each agent)\n",
    "#         actions = np.clip(actions, -1, 1)                  # all actions between -1 and 1\n",
    "#         env_info = env.step(actions)[brain_name]           # send all actions to tne environment\n",
    "#         next_states = env_info.vector_observations         # get next state (for each agent)\n",
    "#         rewards = env_info.rewards                         # get reward (for each agent)\n",
    "#         dones = env_info.local_done                        # see if episode finished\n",
    "#         scores += env_info.rewards                         # update the score (for each agent)\n",
    "#         states = next_states                               # roll over states to next time step\n",
    "#         if np.any(dones):                                  # exit loop if episode finished\n",
    "#             break\n",
    "#     print('Score (max over agents) from episode {}: {}'.format(i_ep, np.max(scores)))"
   ]
  },
  {
   "cell_type": "markdown",
   "metadata": {},
   "source": [
    "When finished, you can close the environment."
   ]
  },
  {
   "cell_type": "code",
   "execution_count": 8,
   "metadata": {},
   "outputs": [],
   "source": [
    "# env.close()"
   ]
  },
  {
   "cell_type": "markdown",
   "metadata": {},
   "source": [
    "### 4. Train DDPG Agent (Multi)\n",
    "\n",
    "Now it's your turn to train your own agent to solve the environment!  When training the environment, set `train_mode=True`, so that the line for resetting the environment looks like the following:\n",
    "```python\n",
    "env_info = env.reset(train_mode=True)[brain_name]\n",
    "```"
   ]
  },
  {
   "cell_type": "code",
   "execution_count": 9,
   "metadata": {},
   "outputs": [
    {
     "name": "stdout",
     "output_type": "stream",
     "text": [
      "Using device:  cuda:0\n"
     ]
    }
   ],
   "source": [
    "# create agent\n",
    "agent = Agent(state_size, action_size, 8)\n",
    "\n",
    "scores_deque = deque(maxlen=100)\n",
    "score_hist = []"
   ]
  },
  {
   "cell_type": "code",
   "execution_count": 10,
   "metadata": {
    "scrolled": false
   },
   "outputs": [
    {
     "name": "stdout",
     "output_type": "stream",
     "text": [
      "Episode 100\tAverage Score Last 100: 0.00.00\tAverage Score Last 100: 0.00\n",
      "Episode 200\tAverage Score Last 100: 0.02.00\tAverage Score Last 100: 0.02\n",
      "Episode 300\tAverage Score Last 100: 0.0805\tAverage Score Last 100: 0.085\n",
      "Episode 400\tAverage Score Last 100: 0.0305\tAverage Score Last 100: 0.033\n",
      "Episode 500\tAverage Score Last 100: 0.1110\tAverage Score Last 100: 0.11\n",
      "Episode 600\tAverage Score Last 100: 0.1410\tAverage Score Last 100: 0.14\n",
      "Episode 700\tAverage Score Last 100: 0.1410\tAverage Score Last 100: 0.145\n",
      "Episode 800\tAverage Score Last 100: 0.1110\tAverage Score Last 100: 0.112\n",
      "Episode 900\tAverage Score Last 100: 0.1410\tAverage Score Last 100: 0.144\n",
      "Episode 1000\tAverage Score Last 100: 0.1305\tAverage Score Last 100: 0.13\n",
      "Episode 1100\tAverage Score Last 100: 0.1405\tAverage Score Last 100: 0.14\n",
      "Episode 1200\tAverage Score Last 100: 0.1405\tAverage Score Last 100: 0.144\n",
      "Episode 1300\tAverage Score Last 100: 0.1710\tAverage Score Last 100: 0.17\n",
      "Episode 1400\tAverage Score Last 100: 0.1610\tAverage Score Last 100: 0.16\n",
      "Episode 1500\tAverage Score Last 100: 0.1620\tAverage Score Last 100: 0.16\n",
      "Episode 1600\tAverage Score Last 100: 0.1515\tAverage Score Last 100: 0.155\n",
      "Episode 1700\tAverage Score Last 100: 0.1415\tAverage Score Last 100: 0.144\n",
      "Episode 1800\tAverage Score Last 100: 0.1405\tAverage Score Last 100: 0.144\n",
      "Episode 1900\tAverage Score Last 100: 0.1310\tAverage Score Last 100: 0.133\n",
      "Episode 2000\tAverage Score Last 100: 0.1305\tAverage Score Last 100: 0.133\n",
      "Episode 2100\tAverage Score Last 100: 0.1205\tAverage Score Last 100: 0.122\n",
      "Episode 2200\tAverage Score Last 100: 0.1590\tAverage Score Last 100: 0.152\n",
      "Episode 2300\tAverage Score Last 100: 0.1305\tAverage Score Last 100: 0.135\n",
      "Episode 2400\tAverage Score Last 100: 0.1205\tAverage Score Last 100: 0.123\n",
      "Episode 2500\tAverage Score Last 100: 0.1410\tAverage Score Last 100: 0.143\n",
      "Episode 2600\tAverage Score Last 100: 0.1405\tAverage Score Last 100: 0.143\n",
      "Episode 2700\tAverage Score Last 100: 0.1505\tAverage Score Last 100: 0.15\n",
      "Episode 2800\tAverage Score Last 100: 0.1515\tAverage Score Last 100: 0.155\n",
      "Episode 2900\tAverage Score Last 100: 0.1915\tAverage Score Last 100: 0.19\n",
      "Episode 3000\tAverage Score Last 100: 0.1605\tAverage Score Last 100: 0.169\n",
      "Episode 3100\tAverage Score Last 100: 0.1105\tAverage Score Last 100: 0.111\n",
      "Episode 3200\tAverage Score Last 100: 0.1205\tAverage Score Last 100: 0.12\n",
      "Episode 3300\tAverage Score Last 100: 0.1205\tAverage Score Last 100: 0.122\n",
      "Episode 3400\tAverage Score Last 100: 0.1325\tAverage Score Last 100: 0.132\n",
      "Episode 3500\tAverage Score Last 100: 0.1705\tAverage Score Last 100: 0.17\n",
      "Episode 3600\tAverage Score Last 100: 0.1505\tAverage Score Last 100: 0.15\n",
      "Episode 3700\tAverage Score Last 100: 0.1905\tAverage Score Last 100: 0.199\n",
      "Episode 3800\tAverage Score Last 100: 0.1205\tAverage Score Last 100: 0.126\n",
      "Episode 3900\tAverage Score Last 100: 0.1305\tAverage Score Last 100: 0.13\n",
      "Episode 4000\tAverage Score Last 100: 0.1510\tAverage Score Last 100: 0.15\n",
      "Episode 4100\tAverage Score Last 100: 0.1805\tAverage Score Last 100: 0.18\n",
      "Episode 4200\tAverage Score Last 100: 0.1315\tAverage Score Last 100: 0.13\n",
      "Episode 4300\tAverage Score Last 100: 0.1615\tAverage Score Last 100: 0.163\n",
      "Episode 4400\tAverage Score Last 100: 0.1605\tAverage Score Last 100: 0.16\n",
      "Episode 4500\tAverage Score Last 100: 0.1815\tAverage Score Last 100: 0.18\n",
      "Episode 4600\tAverage Score Last 100: 0.1510\tAverage Score Last 100: 0.15\n",
      "Episode 4700\tAverage Score Last 100: 0.2030\tAverage Score Last 100: 0.200\n",
      "Episode 4800\tAverage Score Last 100: 0.1210\tAverage Score Last 100: 0.12\n",
      "Episode 4900\tAverage Score Last 100: 0.1810\tAverage Score Last 100: 0.188\n",
      "Episode 5000\tAverage Score Last 100: 0.1310\tAverage Score Last 100: 0.135\n",
      "Episode 5100\tAverage Score Last 100: 0.1715\tAverage Score Last 100: 0.17\n",
      "Episode 5200\tAverage Score Last 100: 0.12.00\tAverage Score Last 100: 0.12\n",
      "Episode 5300\tAverage Score Last 100: 0.2605\tAverage Score Last 100: 0.26\n",
      "Episode 5400\tAverage Score Last 100: 0.1610\tAverage Score Last 100: 0.16\n",
      "Episode 5500\tAverage Score Last 100: 0.1905\tAverage Score Last 100: 0.19\n",
      "Episode 5600\tAverage Score Last 100: 0.2010\tAverage Score Last 100: 0.208\n",
      "Episode 5700\tAverage Score Last 100: 0.2010\tAverage Score Last 100: 0.206\n",
      "Episode 5800\tAverage Score Last 100: 0.2405\tAverage Score Last 100: 0.248\n",
      "Episode 5900\tAverage Score Last 100: 0.2010\tAverage Score Last 100: 0.200\n",
      "Episode 6000\tAverage Score Last 100: 0.2860\tAverage Score Last 100: 0.280\n",
      "Episode 6100\tAverage Score Last 100: 0.2110\tAverage Score Last 100: 0.213\n",
      "Episode 6200\tAverage Score Last 100: 0.2405\tAverage Score Last 100: 0.244\n",
      "Episode 6300\tAverage Score Last 100: 0.1810\tAverage Score Last 100: 0.180\n",
      "Episode 6400\tAverage Score Last 100: 0.2310\tAverage Score Last 100: 0.23\n",
      "Episode 6500\tAverage Score Last 100: 0.2610\tAverage Score Last 100: 0.26\n",
      "Episode 6600\tAverage Score Last 100: 0.3805\tAverage Score Last 100: 0.385\n",
      "Episode 6700\tAverage Score Last 100: 0.2510\tAverage Score Last 100: 0.250\n",
      "Episode 6800\tAverage Score Last 100: 0.3860\tAverage Score Last 100: 0.38\n",
      "Episode 6900\tAverage Score Last 100: 0.1960\tAverage Score Last 100: 0.195\n",
      "Episode 7000\tAverage Score Last 100: 0.2705\tAverage Score Last 100: 0.272\n",
      "Episode 7100\tAverage Score Last 100: 0.2815\tAverage Score Last 100: 0.282\n",
      "Episode 7200\tAverage Score Last 100: 0.2910\tAverage Score Last 100: 0.29\n",
      "Episode 7300\tAverage Score Last 100: 0.2605\tAverage Score Last 100: 0.26\n",
      "Episode 7400\tAverage Score Last 100: 0.3310\tAverage Score Last 100: 0.335\n",
      "Episode 7500\tAverage Score Last 100: 0.5505\tAverage Score Last 100: 0.55\n",
      "Episode 7600\tAverage Score Last 100: 0.4305\tAverage Score Last 100: 0.439\n",
      "Episode 7700\tAverage Score Last 100: 0.3860\tAverage Score Last 100: 0.380\n",
      "Episode 7800\tAverage Score Last 100: 0.3210\tAverage Score Last 100: 0.32\n",
      "Episode 7900\tAverage Score Last 100: 0.4555\tAverage Score Last 100: 0.455\n",
      "Episode 8000\tAverage Score Last 100: 0.3560\tAverage Score Last 100: 0.35\n",
      "Episode 8100\tAverage Score Last 100: 0.4405\tAverage Score Last 100: 0.440\n",
      "Episode 8200\tAverage Score Last 100: 0.3710\tAverage Score Last 100: 0.371\n",
      "Episode 8300\tAverage Score Last 100: 0.4110\tAverage Score Last 100: 0.412\n",
      "Episode 8400\tAverage Score Last 100: 0.3410\tAverage Score Last 100: 0.346\n",
      "Episode 8500\tAverage Score Last 100: 0.2805\tAverage Score Last 100: 0.281\n",
      "Episode 8600\tAverage Score Last 100: 0.2305\tAverage Score Last 100: 0.234\n",
      "Episode 8624\tAverage Score of Episode: 0.05\tAverage Score Last 100: 0.27"
     ]
    },
    {
     "ename": "KeyboardInterrupt",
     "evalue": "",
     "output_type": "error",
     "traceback": [
      "\u001b[1;31m---------------------------------------------------------------------------\u001b[0m",
      "\u001b[1;31mKeyboardInterrupt\u001b[0m                         Traceback (most recent call last)",
      "\u001b[1;32m<ipython-input-10-d35e9eb83802>\u001b[0m in \u001b[0;36m<module>\u001b[1;34m\u001b[0m\n\u001b[0;32m     18\u001b[0m         \u001b[0mactions\u001b[0m \u001b[1;33m=\u001b[0m \u001b[1;33m[\u001b[0m\u001b[0magent\u001b[0m\u001b[1;33m.\u001b[0m\u001b[0mact\u001b[0m\u001b[1;33m(\u001b[0m\u001b[0mstates\u001b[0m\u001b[1;33m[\u001b[0m\u001b[1;36m0\u001b[0m\u001b[1;33m]\u001b[0m\u001b[1;33m)\u001b[0m\u001b[1;33m]\u001b[0m                \u001b[1;31m# get first agents actions\u001b[0m\u001b[1;33m\u001b[0m\u001b[1;33m\u001b[0m\u001b[0m\n\u001b[0;32m     19\u001b[0m         \u001b[1;32mfor\u001b[0m \u001b[0mi\u001b[0m \u001b[1;32min\u001b[0m \u001b[0mrange\u001b[0m\u001b[1;33m(\u001b[0m\u001b[1;36m1\u001b[0m\u001b[1;33m,\u001b[0m\u001b[0mnum_agents\u001b[0m\u001b[1;33m)\u001b[0m\u001b[1;33m:\u001b[0m\u001b[1;33m\u001b[0m\u001b[1;33m\u001b[0m\u001b[0m\n\u001b[1;32m---> 20\u001b[1;33m             \u001b[0mactions\u001b[0m\u001b[1;33m.\u001b[0m\u001b[0mappend\u001b[0m\u001b[1;33m(\u001b[0m\u001b[0magent\u001b[0m\u001b[1;33m.\u001b[0m\u001b[0mact\u001b[0m\u001b[1;33m(\u001b[0m\u001b[0mstates\u001b[0m\u001b[1;33m[\u001b[0m\u001b[0mi\u001b[0m\u001b[1;33m]\u001b[0m\u001b[1;33m)\u001b[0m\u001b[1;33m)\u001b[0m        \u001b[1;31m# get all other agents actions\u001b[0m\u001b[1;33m\u001b[0m\u001b[1;33m\u001b[0m\u001b[0m\n\u001b[0m\u001b[0;32m     21\u001b[0m \u001b[1;33m\u001b[0m\u001b[0m\n\u001b[0;32m     22\u001b[0m         \u001b[0menv_info\u001b[0m \u001b[1;33m=\u001b[0m \u001b[0menv\u001b[0m\u001b[1;33m.\u001b[0m\u001b[0mstep\u001b[0m\u001b[1;33m(\u001b[0m\u001b[0mactions\u001b[0m\u001b[1;33m)\u001b[0m\u001b[1;33m[\u001b[0m\u001b[0mbrain_name\u001b[0m\u001b[1;33m]\u001b[0m        \u001b[1;31m# send the actions to the environment\u001b[0m\u001b[1;33m\u001b[0m\u001b[1;33m\u001b[0m\u001b[0m\n",
      "\u001b[1;32m~\\Documents\\Code\\p3_collab-compet\\ddpg_agent.py\u001b[0m in \u001b[0;36mact\u001b[1;34m(self, state, add_noise)\u001b[0m\n\u001b[0;32m     80\u001b[0m     \u001b[1;32mdef\u001b[0m \u001b[0mact\u001b[0m\u001b[1;33m(\u001b[0m\u001b[0mself\u001b[0m\u001b[1;33m,\u001b[0m \u001b[0mstate\u001b[0m\u001b[1;33m,\u001b[0m \u001b[0madd_noise\u001b[0m\u001b[1;33m=\u001b[0m\u001b[1;32mTrue\u001b[0m\u001b[1;33m)\u001b[0m\u001b[1;33m:\u001b[0m\u001b[1;33m\u001b[0m\u001b[1;33m\u001b[0m\u001b[0m\n\u001b[0;32m     81\u001b[0m         \u001b[1;34m\"\"\"Returns actions for given state as per current policy.\"\"\"\u001b[0m\u001b[1;33m\u001b[0m\u001b[1;33m\u001b[0m\u001b[0m\n\u001b[1;32m---> 82\u001b[1;33m         \u001b[0mstate\u001b[0m \u001b[1;33m=\u001b[0m \u001b[0mtorch\u001b[0m\u001b[1;33m.\u001b[0m\u001b[0mfrom_numpy\u001b[0m\u001b[1;33m(\u001b[0m\u001b[0mstate\u001b[0m\u001b[1;33m)\u001b[0m\u001b[1;33m.\u001b[0m\u001b[0mfloat\u001b[0m\u001b[1;33m(\u001b[0m\u001b[1;33m)\u001b[0m\u001b[1;33m.\u001b[0m\u001b[0mto\u001b[0m\u001b[1;33m(\u001b[0m\u001b[0mdevice\u001b[0m\u001b[1;33m)\u001b[0m\u001b[1;33m\u001b[0m\u001b[1;33m\u001b[0m\u001b[0m\n\u001b[0m\u001b[0;32m     83\u001b[0m         \u001b[0mself\u001b[0m\u001b[1;33m.\u001b[0m\u001b[0mactor_local\u001b[0m\u001b[1;33m.\u001b[0m\u001b[0meval\u001b[0m\u001b[1;33m(\u001b[0m\u001b[1;33m)\u001b[0m\u001b[1;33m\u001b[0m\u001b[1;33m\u001b[0m\u001b[0m\n\u001b[0;32m     84\u001b[0m         \u001b[1;32mwith\u001b[0m \u001b[0mtorch\u001b[0m\u001b[1;33m.\u001b[0m\u001b[0mno_grad\u001b[0m\u001b[1;33m(\u001b[0m\u001b[1;33m)\u001b[0m\u001b[1;33m:\u001b[0m\u001b[1;33m\u001b[0m\u001b[1;33m\u001b[0m\u001b[0m\n",
      "\u001b[1;31mKeyboardInterrupt\u001b[0m: "
     ]
    }
   ],
   "source": [
    "# train agent\n",
    "N_EPS = 10000\n",
    "print_every  = 100\n",
    "\n",
    "    \n",
    "for i_episode in range(1, N_EPS+1):\n",
    "    env_info = env.reset(train_mode=True)[brain_name]     # turn train mode on for env\n",
    "    states = env_info.vector_observations                 # get initial states\n",
    "    agent.reset()                                         # reset agent\n",
    "    scores = np.zeros(num_agents)                         # initialize the score (for each agent)\n",
    "\n",
    "    while True:\n",
    "        actions = [agent.act(states[0])]                # get first agents actions\n",
    "        for i in range(1,num_agents):\n",
    "            actions.append(agent.act(states[i]))        # get all other agents actions\n",
    "\n",
    "        env_info = env.step(actions)[brain_name]        # send the actions to the environment\n",
    "        next_states = env_info.vector_observations      # get the next state\n",
    "        dones = env_info.local_done                     # see if episode has finished\n",
    "        rewards = env_info.rewards                      # get reward (for each agent)\n",
    "        scores += env_info.rewards                      # get total score for this episode\n",
    "\n",
    "        # update using all agents\n",
    "        for state, action, reward, next_state, done in zip(states, actions, rewards, next_states, dones):\n",
    "            agent.step(state, action, reward, next_state, done)\n",
    "\n",
    "        states = next_states\n",
    "\n",
    "        if np.any(dones):\n",
    "            break\n",
    "\n",
    "    scores_deque.append(np.max(scores))\n",
    "    score_hist.append(np.max(scores))\n",
    "    print('\\rEpisode {}\\tAverage Score of Episode: {:.2f}\\tAverage Score Last {}: {:.2f}'.format(i_episode, np.mean(scores), print_every, np.mean(scores_deque)), end=\"\")\n",
    "    torch.save(agent.actor_local.state_dict(), 'agent_checkpoints/checkpoint_actor.pth')\n",
    "    torch.save(agent.critic_local.state_dict(), 'agent_checkpoints/checkpoint_critic.pth')\n",
    "    if i_episode % print_every == 0:\n",
    "        print('\\rEpisode {}\\tAverage Score Last {}: {:.2f}'.format(i_episode, print_every, np.mean(scores_deque)))\n",
    "\n"
   ]
  },
  {
   "cell_type": "code",
   "execution_count": 19,
   "metadata": {
    "scrolled": false
   },
   "outputs": [
    {
     "name": "stderr",
     "output_type": "stream",
     "text": [
      "C:\\Users\\heyke\\Miniconda3\\envs\\drlnd\\lib\\site-packages\\IPython\\core\\pylabtools.py:132: UserWarning: Creating legend with loc=\"best\" can be slow with large amounts of data.\n",
      "  fig.canvas.print_figure(bytes_io, **kw)\n"
     ]
    },
    {
     "data": {
      "image/png": "[encoded data removed]",
      "text/plain": [
       "<Figure size 1008x720 with 1 Axes>"
      ]
     },
     "metadata": {
      "needs_background": "light"
     },
     "output_type": "display_data"
    }
   ],
   "source": [
    "# print rewards history\n",
    "plt.rcParams['font.size'] = '16'\n",
    "fig = plt.figure(figsize=[14,10])\n",
    "ax = fig.add_subplot(111)\n",
    "plt.plot(np.arange(1, len(score_hist)+1), score_hist, 'r.', label='Episode Reward')\n",
    "for i in np.arange(100, len(score_hist)):\n",
    "    if i == 100:\n",
    "        label = \"Mean of Last 100 Episodes\"\n",
    "    else:\n",
    "        label=None\n",
    "    plt.plot(i-99, np.mean(score_hist[i-100:i]),'k.', label=label)\n",
    "plt.ylabel('Score')\n",
    "plt.xlabel('Episode #')\n",
    "plt.grid()\n",
    "plt.ylim([0, 0.6])\n",
    "plt.legend()\n",
    "plt.show()"
   ]
  },
  {
   "cell_type": "markdown",
   "metadata": {},
   "source": [
    "### 5. Test the Agent\n",
    "\n",
    "Test agent in the environment."
   ]
  },
  {
   "cell_type": "code",
   "execution_count": null,
   "metadata": {},
   "outputs": [],
   "source": [
    "# load the saved states if testing agent\n",
    "\n",
    "# actor_state = torch.load('agent_checkpoints/checkpoint_actor.pth')\n",
    "# critic_state = torch.load('agent_checkpoints/checkpoint_critic.pth')\n",
    "\n",
    "# agent_to_test = Agent(state_size, action_size, 4, actor_state=actor_state, critic_state=critic_state)\n"
   ]
  },
  {
   "cell_type": "code",
   "execution_count": null,
   "metadata": {},
   "outputs": [],
   "source": [
    "\n",
    "# num_eps = 6\n",
    "\n",
    "# for i_ep in range(1, num_eps+1):                           # play game for n_eps episodes\n",
    "#     env_info = env.reset(train_mode=False)[brain_name]     # reset the environment    \n",
    "#     states = env_info.vector_observations                  # get the current state (for each agent)\n",
    "#     scores = np.zeros(num_agents)                          # initialize the score (for each agent)\n",
    "#     while True:\n",
    "# #         actions = np.random.randn(num_agents, action_size) # select an action (for each agent)\n",
    "# #         actions = np.clip(actions, -1, 1)                  # all actions between -1 and 1\n",
    "        \n",
    "#         # test agent\n",
    "#         actions = [agent.act(states[0])]                # get first agents actions\n",
    "#         for i in range(1,num_agents):\n",
    "#             actions.append(agent.act(states[i]))        # get all other agents actions\n",
    "\n",
    "#         env_info = env.step(actions)[brain_name]           # send all actions to tne environment\n",
    "#         next_states = env_info.vector_observations         # get next state (for each agent)\n",
    "#         rewards = env_info.rewards                         # get reward (for each agent)\n",
    "#         dones = env_info.local_done                        # see if episode finished\n",
    "#         scores += env_info.rewards                         # update the score (for each agent)\n",
    "#         states = next_states                               # roll over states to next time step\n",
    "#         if np.any(dones):                                  # exit loop if episode finished\n",
    "#             break\n",
    "#     print('Score (max over agents) from episode {}: {}'.format(i_ep, np.max(scores)))"
   ]
  },
  {
   "cell_type": "code",
   "execution_count": null,
   "metadata": {},
   "outputs": [],
   "source": []
  },
  {
   "cell_type": "code",
   "execution_count": null,
   "metadata": {},
   "outputs": [],
   "source": []
  }
 ],
 "metadata": {
  "kernelspec": {
   "display_name": "drlnd",
   "language": "python",
   "name": "drlnd"
  },
  "language_info": {
   "codemirror_mode": {
    "name": "ipython",
    "version": 3
   },
   "file_extension": ".py",
   "mimetype": "text/x-python",
   "name": "python",
   "nbconvert_exporter": "python",
   "pygments_lexer": "ipython3",
   "version": "3.6.13"
  }
 },
 "nbformat": 4,
 "nbformat_minor": 2
}
